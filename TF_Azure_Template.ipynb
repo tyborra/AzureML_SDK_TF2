{
 "cells": [
  {
   "cell_type": "markdown",
   "metadata": {},
   "source": [
    "# Imports"
   ]
  },
  {
   "cell_type": "code",
   "execution_count": 1,
   "metadata": {},
   "outputs": [
    {
     "name": "stdout",
     "output_type": "stream",
     "text": [
      "TF version: 2.1.0 [PhysicalDevice(name='/physical_device:GPU:0', device_type='GPU')]\n"
     ]
    }
   ],
   "source": [
    "import os\n",
    "import tempfile\n",
    "import datetime\n",
    "import numpy as np\n",
    "import pandas as pd\n",
    "import tensorflow as tf\n",
    "from tensorflow import keras\n",
    "from tensorflow.keras import layers\n",
    "import sklearn as skl\n",
    "import joblib\n",
    "import json\n",
    "import pickle\n",
    "import tempfile\n",
    "from sklearn.preprocessing import LabelEncoder, StandardScaler\n",
    "from sklearn.compose import ColumnTransformer, make_column_transformer\n",
    "from collections import defaultdict\n",
    "import joblib\n",
    "\n",
    "from data_functions import ingest_data, prepare_data\n",
    "\n",
    "%matplotlib inline\n",
    "import matplotlib.pyplot as plt\n",
    "import seaborn as sns\n",
    "\n",
    "SEED = 4321\n",
    "np.random.seed(SEED)\n",
    "tf.random.set_seed(SEED)\n",
    "\n",
    "# Check GPU\n",
    "physical_devices = tf.config.list_physical_devices('GPU')\n",
    "print('TF version:',tf.__version__ ,  tf.config.experimental.list_physical_devices(device_type='GPU') )\n",
    "\n",
    "#memory control \n",
    "tf.config.experimental.set_memory_growth(physical_devices[0], True)"
   ]
  },
  {
   "cell_type": "code",
   "execution_count": 3,
   "metadata": {},
   "outputs": [
    {
     "name": "stdout",
     "output_type": "stream",
     "text": [
      "Azure version: 1.19.0\n"
     ]
    }
   ],
   "source": [
    "#Azure Imports\n",
    "import azureml.core\n",
    "from azureml.core import Workspace\n",
    "from azureml.core.model import Model\n",
    "from azureml.core import Experiment\n",
    "from azureml.core.webservice import Webservice\n",
    "from azureml.core.image import ContainerImage\n",
    "from azureml.core.webservice import AciWebservice\n",
    "from azureml.core.conda_dependencies import CondaDependencies\n",
    "from azureml.core.resource_configuration import ResourceConfiguration\n",
    "from azureml.core.model import InferenceConfig\n",
    "#from azureml.core.webservice import AksWebservice\n",
    "from azureml.core.environment import Environment, DEFAULT_CPU_IMAGE   #, DEFAULT_GPU_IMAGE\n",
    "from azureml.core.compute import ComputeTarget #, AksCompute\n",
    "from azureml.core.compute_target import ComputeTargetException\n",
    "#from azureml.core.datastore import Datastore\n",
    "from msrest.exceptions import HttpOperationError\n",
    "from azureml.core.webservice import LocalWebservice\n",
    "\n",
    "print('Azure version:', azureml.core.VERSION)"
   ]
  },
  {
   "cell_type": "markdown",
   "metadata": {},
   "source": [
    "# Connect to Azure"
   ]
  },
  {
   "cell_type": "code",
   "execution_count": 4,
   "metadata": {},
   "outputs": [],
   "source": [
    "ws_name ='Prototype' \n",
    "sub_id ='xxxxxxxx-xxxx-xxxx-xxxx-xxxxxxxxxxxx'  #your subscription ID\n",
    "res_grp ='Deploy'\n",
    "region ='South Central US'\n",
    "\n",
    "subscription_id = os.getenv(\"SUBSCRIPTION_ID\", default= sub_id)\n",
    "resource_group = os.getenv(\"RESOURCE_GROUP\", default=  res_grp)\n",
    "workspace_name = os.getenv(\"WORKSPACE_NAME\", default=  ws_name)\n",
    "workspace_region = os.getenv(\"WORKSPACE_REGION\", default=  region)"
   ]
  },
  {
   "cell_type": "code",
   "execution_count": 5,
   "metadata": {},
   "outputs": [
    {
     "name": "stdout",
     "output_type": "stream",
     "text": [
      "Workspace succesfully loaded from config\n"
     ]
    }
   ],
   "source": [
    "#connect to workspace or create a new workspace\n",
    "try:\n",
    "    ws = Workspace.from_config()\n",
    "    print(\"Workspace succesfully loaded from config\")\n",
    "except:\n",
    "    print(\"CANNOT create workspace from config file, creating new workspace\")\n",
    "    ws = Workspace.create(name = ws_name, subscription_id = sub_id, resource_group=res_grp, \n",
    "                              create_resource_group=True, location= region)\n",
    "    ws.write_config()\n",
    "# print(ws.name, ws.resource_group, ws.location, ws.subscription_id, sep='\\n')   # prints details of workspace"
   ]
  },
  {
   "cell_type": "code",
   "execution_count": null,
   "metadata": {},
   "outputs": [],
   "source": [
    "#displays compute targets, optional\n",
    "for compute_name in ws.compute_targets:\n",
    "    compute = ws.compute_targets[compute_name]\n",
    "    print(compute.name, \":\", compute.type)"
   ]
  },
  {
   "cell_type": "markdown",
   "metadata": {},
   "source": [
    "# Import Data"
   ]
  },
  {
   "cell_type": "code",
   "execution_count": 6,
   "metadata": {},
   "outputs": [
    {
     "data": {
      "text/html": [
       "<div>\n",
       "<style scoped>\n",
       "    .dataframe tbody tr th:only-of-type {\n",
       "        vertical-align: middle;\n",
       "    }\n",
       "\n",
       "    .dataframe tbody tr th {\n",
       "        vertical-align: top;\n",
       "    }\n",
       "\n",
       "    .dataframe thead th {\n",
       "        text-align: right;\n",
       "    }\n",
       "</style>\n",
       "<table border=\"1\" class=\"dataframe\">\n",
       "  <thead>\n",
       "    <tr style=\"text-align: right;\">\n",
       "      <th></th>\n",
       "      <th>user_id</th>\n",
       "      <th>cat1</th>\n",
       "      <th>cat2</th>\n",
       "      <th>cat3</th>\n",
       "      <th>numeric1</th>\n",
       "      <th>target</th>\n",
       "    </tr>\n",
       "  </thead>\n",
       "  <tbody>\n",
       "    <tr>\n",
       "      <th>0</th>\n",
       "      <td>1</td>\n",
       "      <td>1</td>\n",
       "      <td>1</td>\n",
       "      <td>1</td>\n",
       "      <td>2.855963</td>\n",
       "      <td>0.698282</td>\n",
       "    </tr>\n",
       "    <tr>\n",
       "      <th>1</th>\n",
       "      <td>1</td>\n",
       "      <td>2</td>\n",
       "      <td>1</td>\n",
       "      <td>2</td>\n",
       "      <td>0.603192</td>\n",
       "      <td>0.243984</td>\n",
       "    </tr>\n",
       "  </tbody>\n",
       "</table>\n",
       "</div>"
      ],
      "text/plain": [
       "   user_id  cat1  cat2  cat3  numeric1    target\n",
       "0        1     1     1     1  2.855963  0.698282\n",
       "1        1     2     1     2  0.603192  0.243984"
      ]
     },
     "execution_count": 6,
     "metadata": {},
     "output_type": "execute_result"
    }
   ],
   "source": [
    "user_df = pd.read_csv('data/user_df.csv')\n",
    "user_df.head(2)"
   ]
  },
  {
   "cell_type": "code",
   "execution_count": 7,
   "metadata": {},
   "outputs": [
    {
     "data": {
      "text/html": [
       "<div>\n",
       "<style scoped>\n",
       "    .dataframe tbody tr th:only-of-type {\n",
       "        vertical-align: middle;\n",
       "    }\n",
       "\n",
       "    .dataframe tbody tr th {\n",
       "        vertical-align: top;\n",
       "    }\n",
       "\n",
       "    .dataframe thead th {\n",
       "        text-align: right;\n",
       "    }\n",
       "</style>\n",
       "<table border=\"1\" class=\"dataframe\">\n",
       "  <thead>\n",
       "    <tr style=\"text-align: right;\">\n",
       "      <th></th>\n",
       "      <th>user_id</th>\n",
       "      <th>cat1</th>\n",
       "      <th>cat2</th>\n",
       "      <th>cat3</th>\n",
       "      <th>numeric1</th>\n",
       "      <th>target</th>\n",
       "    </tr>\n",
       "  </thead>\n",
       "  <tbody>\n",
       "    <tr>\n",
       "      <th>0</th>\n",
       "      <td>95</td>\n",
       "      <td>1</td>\n",
       "      <td>1</td>\n",
       "      <td>1</td>\n",
       "      <td>4.731038</td>\n",
       "      <td>0.508188</td>\n",
       "    </tr>\n",
       "    <tr>\n",
       "      <th>1</th>\n",
       "      <td>95</td>\n",
       "      <td>2</td>\n",
       "      <td>1</td>\n",
       "      <td>2</td>\n",
       "      <td>4.065228</td>\n",
       "      <td>0.189716</td>\n",
       "    </tr>\n",
       "  </tbody>\n",
       "</table>\n",
       "</div>"
      ],
      "text/plain": [
       "   user_id  cat1  cat2  cat3  numeric1    target\n",
       "0       95     1     1     1  4.731038  0.508188\n",
       "1       95     2     1     2  4.065228  0.189716"
      ]
     },
     "execution_count": 7,
     "metadata": {},
     "output_type": "execute_result"
    }
   ],
   "source": [
    "live_df = pd.read_csv('data/live_df.csv')\n",
    "live_df.head(2)"
   ]
  },
  {
   "cell_type": "code",
   "execution_count": 8,
   "metadata": {},
   "outputs": [
    {
     "data": {
      "text/html": [
       "<div>\n",
       "<style scoped>\n",
       "    .dataframe tbody tr th:only-of-type {\n",
       "        vertical-align: middle;\n",
       "    }\n",
       "\n",
       "    .dataframe tbody tr th {\n",
       "        vertical-align: top;\n",
       "    }\n",
       "\n",
       "    .dataframe thead th {\n",
       "        text-align: right;\n",
       "    }\n",
       "</style>\n",
       "<table border=\"1\" class=\"dataframe\">\n",
       "  <thead>\n",
       "    <tr style=\"text-align: right;\">\n",
       "      <th></th>\n",
       "      <th>user_id</th>\n",
       "      <th>cat1</th>\n",
       "      <th>cat2</th>\n",
       "      <th>cat3</th>\n",
       "      <th>numeric1</th>\n",
       "    </tr>\n",
       "  </thead>\n",
       "  <tbody>\n",
       "    <tr>\n",
       "      <th>0</th>\n",
       "      <td>95</td>\n",
       "      <td>102</td>\n",
       "      <td>3</td>\n",
       "      <td>30</td>\n",
       "      <td>0.101255</td>\n",
       "    </tr>\n",
       "    <tr>\n",
       "      <th>1</th>\n",
       "      <td>95</td>\n",
       "      <td>63</td>\n",
       "      <td>2</td>\n",
       "      <td>17</td>\n",
       "      <td>2.882782</td>\n",
       "    </tr>\n",
       "  </tbody>\n",
       "</table>\n",
       "</div>"
      ],
      "text/plain": [
       "   user_id  cat1  cat2  cat3  numeric1\n",
       "0       95   102     3    30  0.101255\n",
       "1       95    63     2    17  2.882782"
      ]
     },
     "execution_count": 8,
     "metadata": {},
     "output_type": "execute_result"
    }
   ],
   "source": [
    "test_df = pd.read_csv('data/prediction_df.csv')\n",
    "test_df.head(2)"
   ]
  },
  {
   "cell_type": "code",
   "execution_count": 9,
   "metadata": {},
   "outputs": [
    {
     "data": {
      "text/html": [
       "<div>\n",
       "<style scoped>\n",
       "    .dataframe tbody tr th:only-of-type {\n",
       "        vertical-align: middle;\n",
       "    }\n",
       "\n",
       "    .dataframe tbody tr th {\n",
       "        vertical-align: top;\n",
       "    }\n",
       "\n",
       "    .dataframe thead th {\n",
       "        text-align: right;\n",
       "    }\n",
       "</style>\n",
       "<table border=\"1\" class=\"dataframe\">\n",
       "  <thead>\n",
       "    <tr style=\"text-align: right;\">\n",
       "      <th></th>\n",
       "      <th>user_id</th>\n",
       "      <th>cat_1</th>\n",
       "      <th>cat_2</th>\n",
       "      <th>cat_3</th>\n",
       "      <th>cat_4</th>\n",
       "      <th>cat_5</th>\n",
       "      <th>cat_6</th>\n",
       "      <th>cat_7</th>\n",
       "      <th>cat_8</th>\n",
       "      <th>cat_9</th>\n",
       "      <th>...</th>\n",
       "      <th>cat_111</th>\n",
       "      <th>cat_112</th>\n",
       "      <th>cat_113</th>\n",
       "      <th>cat_114</th>\n",
       "      <th>cat_115</th>\n",
       "      <th>cat_116</th>\n",
       "      <th>cat_117</th>\n",
       "      <th>cat_118</th>\n",
       "      <th>cat_119</th>\n",
       "      <th>cat_120</th>\n",
       "    </tr>\n",
       "  </thead>\n",
       "  <tbody>\n",
       "    <tr>\n",
       "      <th>0</th>\n",
       "      <td>1</td>\n",
       "      <td>0.611919</td>\n",
       "      <td>0.076709</td>\n",
       "      <td>0.940055</td>\n",
       "      <td>0.789101</td>\n",
       "      <td>0.523699</td>\n",
       "      <td>0.103797</td>\n",
       "      <td>0.753127</td>\n",
       "      <td>0.670991</td>\n",
       "      <td>0.905431</td>\n",
       "      <td>...</td>\n",
       "      <td>0.647340</td>\n",
       "      <td>0.142626</td>\n",
       "      <td>0.302712</td>\n",
       "      <td>0.201463</td>\n",
       "      <td>0.652526</td>\n",
       "      <td>0.191534</td>\n",
       "      <td>0.287450</td>\n",
       "      <td>0.648126</td>\n",
       "      <td>0.793318</td>\n",
       "      <td>0.920860</td>\n",
       "    </tr>\n",
       "    <tr>\n",
       "      <th>1</th>\n",
       "      <td>2</td>\n",
       "      <td>0.354930</td>\n",
       "      <td>0.200342</td>\n",
       "      <td>0.405535</td>\n",
       "      <td>0.665751</td>\n",
       "      <td>0.765351</td>\n",
       "      <td>0.809228</td>\n",
       "      <td>0.599576</td>\n",
       "      <td>0.921978</td>\n",
       "      <td>0.480865</td>\n",
       "      <td>...</td>\n",
       "      <td>0.991894</td>\n",
       "      <td>0.552732</td>\n",
       "      <td>0.391137</td>\n",
       "      <td>0.966449</td>\n",
       "      <td>0.120969</td>\n",
       "      <td>0.948793</td>\n",
       "      <td>0.657196</td>\n",
       "      <td>0.480267</td>\n",
       "      <td>0.909870</td>\n",
       "      <td>0.516444</td>\n",
       "    </tr>\n",
       "  </tbody>\n",
       "</table>\n",
       "<p>2 rows × 121 columns</p>\n",
       "</div>"
      ],
      "text/plain": [
       "   user_id     cat_1     cat_2     cat_3     cat_4     cat_5     cat_6  \\\n",
       "0        1  0.611919  0.076709  0.940055  0.789101  0.523699  0.103797   \n",
       "1        2  0.354930  0.200342  0.405535  0.665751  0.765351  0.809228   \n",
       "\n",
       "      cat_7     cat_8     cat_9  ...   cat_111   cat_112   cat_113   cat_114  \\\n",
       "0  0.753127  0.670991  0.905431  ...  0.647340  0.142626  0.302712  0.201463   \n",
       "1  0.599576  0.921978  0.480865  ...  0.991894  0.552732  0.391137  0.966449   \n",
       "\n",
       "    cat_115   cat_116   cat_117   cat_118   cat_119   cat_120  \n",
       "0  0.652526  0.191534  0.287450  0.648126  0.793318  0.920860  \n",
       "1  0.120969  0.948793  0.657196  0.480267  0.909870  0.516444  \n",
       "\n",
       "[2 rows x 121 columns]"
      ]
     },
     "execution_count": 9,
     "metadata": {},
     "output_type": "execute_result"
    }
   ],
   "source": [
    "recommender_df = pd.read_csv('data/recommender_df.csv')\n",
    "recommender_df.head(2)"
   ]
  },
  {
   "cell_type": "markdown",
   "metadata": {},
   "source": [
    "# TF Model"
   ]
  },
  {
   "cell_type": "code",
   "execution_count": 10,
   "metadata": {
    "code_folding": []
   },
   "outputs": [],
   "source": [
    "\n",
    "def create_model(cat_features, num_features, data):\n",
    "    '''\n",
    "    Create tf model.\n",
    "    input: df and list of categorical features\n",
    "    output: tf model\n",
    "    '''\n",
    "    models= []\n",
    "    inputs = []\n",
    "    for cat in cat_features:\n",
    "        vocab_size = (data[cat].nunique()) + 1  #//2\n",
    "        inpt = tf.keras.layers.Input(shape=(1,),name='input_'+'_'.join(cat.split(' ')))\n",
    "        inputs.append(inpt)\n",
    "        embed = tf.keras.layers.Embedding(vocab_size,200, \n",
    "                                          trainable=True,embeddings_initializer=tf.random_normal_initializer())(inpt)\n",
    "        embed_rehsaped =tf.keras.layers.Reshape(target_shape=(200,))(embed)\n",
    "        models.append(embed_rehsaped)\n",
    "        \n",
    "    num_input = tf.keras.layers.Input(shape=(len(num_features)), name='input_num_features')\n",
    "    inputs.append(num_input)\n",
    "    models.append(num_input)\n",
    "        \n",
    "    merge_models= tf.keras.layers.concatenate(models)\n",
    "    pre_preds = tf.keras.layers.Dense(1000)(merge_models)   \n",
    "    pre_preds = tf.keras.layers.BatchNormalization()(pre_preds)\n",
    "    pre_preds = tf.keras.layers.Dense(1000)(pre_preds)       \n",
    "    pre_preds = tf.keras.layers.BatchNormalization()(pre_preds)\n",
    "    pred = tf.keras.layers.Dense(1,activation='sigmoid')(pre_preds)\n",
    "    model_full = tf.keras.models.Model(inputs= inputs,\\\n",
    "                                       outputs =pred)\n",
    "    model_full.compile(loss=tf.keras.losses.binary_crossentropy,\\\n",
    "                       metrics=['acc'],  #accuracy\n",
    "                       optimizer='adam')\n",
    "    return model_full\n"
   ]
  },
  {
   "cell_type": "code",
   "execution_count": 11,
   "metadata": {},
   "outputs": [
    {
     "data": {
      "text/html": [
       "<div>\n",
       "<style scoped>\n",
       "    .dataframe tbody tr th:only-of-type {\n",
       "        vertical-align: middle;\n",
       "    }\n",
       "\n",
       "    .dataframe tbody tr th {\n",
       "        vertical-align: top;\n",
       "    }\n",
       "\n",
       "    .dataframe thead th {\n",
       "        text-align: right;\n",
       "    }\n",
       "</style>\n",
       "<table border=\"1\" class=\"dataframe\">\n",
       "  <thead>\n",
       "    <tr style=\"text-align: right;\">\n",
       "      <th></th>\n",
       "      <th>user_id</th>\n",
       "      <th>cat1</th>\n",
       "      <th>cat2</th>\n",
       "      <th>cat3</th>\n",
       "      <th>numeric1</th>\n",
       "    </tr>\n",
       "  </thead>\n",
       "  <tbody>\n",
       "    <tr>\n",
       "      <th>0</th>\n",
       "      <td>1</td>\n",
       "      <td>1</td>\n",
       "      <td>1</td>\n",
       "      <td>1</td>\n",
       "      <td>-0.767519</td>\n",
       "    </tr>\n",
       "    <tr>\n",
       "      <th>1</th>\n",
       "      <td>1</td>\n",
       "      <td>2</td>\n",
       "      <td>1</td>\n",
       "      <td>2</td>\n",
       "      <td>-1.550959</td>\n",
       "    </tr>\n",
       "    <tr>\n",
       "      <th>2</th>\n",
       "      <td>1</td>\n",
       "      <td>3</td>\n",
       "      <td>1</td>\n",
       "      <td>3</td>\n",
       "      <td>0.891730</td>\n",
       "    </tr>\n",
       "    <tr>\n",
       "      <th>3</th>\n",
       "      <td>1</td>\n",
       "      <td>4</td>\n",
       "      <td>1</td>\n",
       "      <td>4</td>\n",
       "      <td>1.389319</td>\n",
       "    </tr>\n",
       "    <tr>\n",
       "      <th>4</th>\n",
       "      <td>1</td>\n",
       "      <td>5</td>\n",
       "      <td>1</td>\n",
       "      <td>5</td>\n",
       "      <td>-1.568278</td>\n",
       "    </tr>\n",
       "  </tbody>\n",
       "</table>\n",
       "</div>"
      ],
      "text/plain": [
       "   user_id  cat1  cat2  cat3  numeric1\n",
       "0        1     1     1     1 -0.767519\n",
       "1        1     2     1     2 -1.550959\n",
       "2        1     3     1     3  0.891730\n",
       "3        1     4     1     4  1.389319\n",
       "4        1     5     1     5 -1.568278"
      ]
     },
     "execution_count": 11,
     "metadata": {},
     "output_type": "execute_result"
    }
   ],
   "source": [
    "cat_features = ['user_id', 'cat1', 'cat2', 'cat3']\n",
    "num_features = ['numeric1'] \n",
    "\n",
    "train,labels = ingest_data(user_df)\n",
    " \n",
    "label_dict, scaler_dict = prepare_data(train, cat_features, num_features)\n",
    "\n",
    "train.head()"
   ]
  },
  {
   "cell_type": "markdown",
   "metadata": {},
   "source": [
    "# Create TF Model"
   ]
  },
  {
   "cell_type": "code",
   "execution_count": 12,
   "metadata": {},
   "outputs": [
    {
     "data": {
      "image/png": "[encoded data removed]",
      "text/plain": [
       "<IPython.core.display.Image object>"
      ]
     },
     "execution_count": 12,
     "metadata": {},
     "output_type": "execute_result"
    }
   ],
   "source": [
    "tf_model = create_model(cat_features, num_features, train)\n",
    "#model.summary()\n",
    "tf.keras.utils.plot_model(tf_model, 'model.png', show_shapes = True)"
   ]
  },
  {
   "cell_type": "markdown",
   "metadata": {},
   "source": [
    "## Callbacks"
   ]
  },
  {
   "cell_type": "code",
   "execution_count": 13,
   "metadata": {},
   "outputs": [],
   "source": [
    "#Learning Rate scheduler\n",
    "class LearningRateReducerCb(tf.keras.callbacks.Callback):\n",
    "\n",
    "    def on_epoch_end(self, epoch, logs={}):\n",
    "        old_lr = self.model.optimizer.lr.read_value()\n",
    "        new_lr = old_lr * 1.02\n",
    "        print(\"\\nEpoch: {}. Increasing Learning Rate from {} to {}\".format(epoch, old_lr, new_lr))\n",
    "        self.model.optimizer.lr.assign(new_lr)\n",
    "        \n",
    "\n",
    "class SaveBestModel(tf.keras.callbacks.Callback):\n",
    "    def __init__(self, save_best_metric='val_loss', this_max=False):\n",
    "        self.save_best_metric = save_best_metric\n",
    "        self.max = this_max\n",
    "        if this_max:\n",
    "            self.best = float('-inf')\n",
    "        else:\n",
    "            self.best = float('inf')\n",
    "\n",
    "    def on_epoch_end(self, epoch, logs=None):\n",
    "        metric_value = logs[self.save_best_metric]\n",
    "        if self.max:\n",
    "            if metric_value > self.best:\n",
    "                self.best = metric_value\n",
    "                self.best_model = self.model\n",
    "\n",
    "        else:\n",
    "            if metric_value < self.best:\n",
    "                self.best = metric_value\n",
    "                self.best_model = self.model\n",
    "                \n",
    "                \n",
    "from tensorflow.keras.callbacks import *\n",
    "from tensorflow.keras import backend as K\n",
    "import numpy as np\n",
    "\n",
    "class CyclicLR(Callback):\n",
    "    \"\"\"\n",
    "    from https://github.com/bckenstler/CLR\n",
    "    \n",
    "    Copyright (c) 2017 Bradley Kenstler\n",
    "\n",
    "    Permission is hereby granted, free of charge, to any person obtaining a copy\n",
    "    of this software and associated documentation files (the \"Software\"), to deal\n",
    "    in the Software without restriction, including without limitation the rights\n",
    "    to use, copy, modify, merge, publish, distribute, sublicense, and/or sell\n",
    "    copies of the Software, and to permit persons to whom the Software is\n",
    "    furnished to do so, subject to the following conditions:\n",
    "    \n",
    "    # About\n",
    "    This callback implements a cyclical learning rate policy (CLR).\n",
    "    The method cycles the learning rate between two boundaries with\n",
    "    some constant frequency, as detailed in this paper (https://arxiv.org/abs/1506.01186).\n",
    "    The amplitude of the cycle can be scaled on a per-iteration or \n",
    "    per-cycle basis.\n",
    "    This class has three built-in policies, as put forth in the paper.\n",
    "    \"triangular\":\n",
    "        A basic triangular cycle w/ no amplitude scaling.\n",
    "    \"triangular2\":\n",
    "        A basic triangular cycle that scales initial amplitude by half each cycle.\n",
    "    \"exp_range\":\n",
    "        A cycle that scales initial amplitude by gamma**(cycle iterations) at each \n",
    "        cycle iteration.\n",
    "    For more detail, please see paper.\n",
    "    \n",
    "    # Example\n",
    "        ```python\n",
    "            clr = CyclicLR(base_lr=0.001, max_lr=0.006,\n",
    "                                step_size=2000., mode='triangular')\n",
    "            model.fit(X_train, Y_train, callbacks=[clr])\n",
    "        ```\n",
    "    \n",
    "    Class also supports custom scaling functions:\n",
    "        ```python\n",
    "            clr_fn = lambda x: 0.5*(1+np.sin(x*np.pi/2.))\n",
    "            clr = CyclicLR(base_lr=0.001, max_lr=0.006,\n",
    "                                step_size=2000., scale_fn=clr_fn,\n",
    "                                scale_mode='cycle')\n",
    "            model.fit(X_train, Y_train, callbacks=[clr])\n",
    "        ```    \n",
    "    # Arguments\n",
    "        base_lr: initial learning rate which is the\n",
    "            lower boundary in the cycle.\n",
    "        max_lr: upper boundary in the cycle. Functionally,\n",
    "            it defines the cycle amplitude (max_lr - base_lr).\n",
    "            The lr at any cycle is the sum of base_lr\n",
    "            and some scaling of the amplitude; therefore \n",
    "            max_lr may not actually be reached depending on\n",
    "            scaling function.\n",
    "        step_size: number of training iterations per\n",
    "            half cycle. Authors suggest setting step_size\n",
    "            2-8 x training iterations in epoch.\n",
    "        mode: one of {triangular, triangular2, exp_range}.\n",
    "            Default 'triangular'.\n",
    "            Values correspond to policies detailed above.\n",
    "            If scale_fn is not None, this argument is ignored.\n",
    "        gamma: constant in 'exp_range' scaling function:\n",
    "            gamma**(cycle iterations)\n",
    "        scale_fn: Custom scaling policy defined by a single\n",
    "            argument lambda function, where \n",
    "            0 <= scale_fn(x) <= 1 for all x >= 0.\n",
    "            mode paramater is ignored \n",
    "        scale_mode: {'cycle', 'iterations'}.\n",
    "            Defines whether scale_fn is evaluated on \n",
    "            cycle number or cycle iterations (training\n",
    "            iterations since start of cycle). Default is 'cycle'.\n",
    "    \"\"\"\n",
    "\n",
    "    def __init__(self, base_lr=0.001, max_lr=0.006, step_size=2000., mode='triangular',\n",
    "                 gamma=1., scale_fn=None, scale_mode='cycle'):\n",
    "        super(CyclicLR, self).__init__()\n",
    "\n",
    "        self.base_lr = base_lr\n",
    "        self.max_lr = max_lr\n",
    "        self.step_size = step_size\n",
    "        self.mode = mode\n",
    "        self.gamma = gamma\n",
    "        if scale_fn == None:\n",
    "            if self.mode == 'triangular':\n",
    "                self.scale_fn = lambda x: 1.\n",
    "                self.scale_mode = 'cycle'\n",
    "            elif self.mode == 'triangular2':\n",
    "                self.scale_fn = lambda x: 1/(2.**(x-1))\n",
    "                self.scale_mode = 'cycle'\n",
    "            elif self.mode == 'exp_range':\n",
    "                self.scale_fn = lambda x: gamma**(x)\n",
    "                self.scale_mode = 'iterations'\n",
    "        else:\n",
    "            self.scale_fn = scale_fn\n",
    "            self.scale_mode = scale_mode\n",
    "        self.clr_iterations = 0.\n",
    "        self.trn_iterations = 0.\n",
    "        self.history = {}\n",
    "\n",
    "        self._reset()\n",
    "\n",
    "    def _reset(self, new_base_lr=None, new_max_lr=None,\n",
    "               new_step_size=None):\n",
    "        \"\"\"Resets cycle iterations.\n",
    "        Optional boundary/step size adjustment.\n",
    "        \"\"\"\n",
    "        if new_base_lr != None:\n",
    "            self.base_lr = new_base_lr\n",
    "        if new_max_lr != None:\n",
    "            self.max_lr = new_max_lr\n",
    "        if new_step_size != None:\n",
    "            self.step_size = new_step_size\n",
    "        self.clr_iterations = 0.\n",
    "        \n",
    "    def clr(self):\n",
    "        cycle = np.floor(1+self.clr_iterations/(2*self.step_size))\n",
    "        x = np.abs(self.clr_iterations/self.step_size - 2*cycle + 1)\n",
    "        if self.scale_mode == 'cycle':\n",
    "            return self.base_lr + (self.max_lr-self.base_lr)*np.maximum(0, (1-x))*self.scale_fn(cycle)\n",
    "        else:\n",
    "            return self.base_lr + (self.max_lr-self.base_lr)*np.maximum(0, (1-x))*self.scale_fn(self.clr_iterations)\n",
    "        \n",
    "    def on_train_begin(self, logs={}):\n",
    "        logs = logs or {}\n",
    "\n",
    "        if self.clr_iterations == 0:\n",
    "            K.set_value(self.model.optimizer.lr, self.base_lr)\n",
    "        else:\n",
    "            K.set_value(self.model.optimizer.lr, self.clr())        \n",
    "            \n",
    "    def on_batch_end(self, epoch, logs=None):\n",
    "        \n",
    "        logs = logs or {}\n",
    "        self.trn_iterations += 1\n",
    "        self.clr_iterations += 1\n",
    "\n",
    "        self.history.setdefault('lr', []).append(K.get_value(self.model.optimizer.lr))\n",
    "        self.history.setdefault('iterations', []).append(self.trn_iterations)\n",
    "\n",
    "        for k, v in logs.items():\n",
    "            self.history.setdefault(k, []).append(v)\n",
    "        \n",
    "        K.set_value(self.model.optimizer.lr, self.clr())"
   ]
  },
  {
   "cell_type": "markdown",
   "metadata": {},
   "source": [
    "## Fit TF model"
   ]
  },
  {
   "cell_type": "code",
   "execution_count": 14,
   "metadata": {},
   "outputs": [
    {
     "name": "stdout",
     "output_type": "stream",
     "text": [
      "Train on 8400 samples, validate on 3600 samples\n",
      "Epoch 1/5\n",
      "8400/8400 [==============================] - 2s 207us/sample - loss: 2.6531 - acc: 0.4981 - val_loss: 0.7065 - val_acc: 0.5108\n",
      "Epoch 2/5\n",
      "8400/8400 [==============================] - 0s 18us/sample - loss: 0.9327 - acc: 0.4920 - val_loss: 0.7871 - val_acc: 0.4961\n",
      "Epoch 3/5\n",
      "8400/8400 [==============================] - 0s 18us/sample - loss: 1.0105 - acc: 0.5074 - val_loss: 1.0920 - val_acc: 0.4947\n",
      "Epoch 4/5\n",
      "8400/8400 [==============================] - 0s 18us/sample - loss: 1.1346 - acc: 0.5087 - val_loss: 0.7706 - val_acc: 0.4969\n",
      "Epoch 5/5\n",
      "8400/8400 [==============================] - 0s 18us/sample - loss: 0.7457 - acc: 0.5242 - val_loss: 0.7037 - val_acc: 0.4950\n"
     ]
    }
   ],
   "source": [
    "#dict for training\n",
    "input_dict= {\n",
    "    'input_user_id':train[cat_features[0]],\n",
    "    'input_cat1':train[cat_features[1]],\n",
    "    'input_cat2':train[cat_features[2]],\n",
    "    'input_cat3':train[cat_features[3]],\n",
    "    'input_num_features':train[num_features[0]]\n",
    "}\n",
    "\n",
    "# Training Parameters\n",
    "epochs = 5\n",
    "batch_size = 1000\n",
    "val_split = 0.3\n",
    "save_best_model = SaveBestModel()\n",
    "clr_triangular = CyclicLR ( base_lr=0.001, \n",
    "                            max_lr=0.01,\n",
    "                            step_size=2.,mode='triangular') \n",
    "\n",
    "#fit\n",
    "history = tf_model.fit(input_dict, \n",
    "                       labels*1, \n",
    "                       validation_split= val_split, \n",
    "                       epochs= epochs, \n",
    "                       batch_size= batch_size,   \n",
    "                       callbacks=[clr_triangular, save_best_model],     #   LearningRateReducerCb() \n",
    "                       #shuffle = True\n",
    "                      )    "
   ]
  },
  {
   "cell_type": "code",
   "execution_count": 15,
   "metadata": {},
   "outputs": [
    {
     "data": {
      "image/png": "[encoded data removed]",
      "text/plain": [
       "<Figure size 1152x432 with 1 Axes>"
      ]
     },
     "metadata": {
      "needs_background": "light"
     },
     "output_type": "display_data"
    }
   ],
   "source": [
    "#plot loss history \n",
    "\n",
    "def plot_loss(history):\n",
    "    fig = plt.figure(figsize=(16,6))\n",
    "    plt.plot(history.history['loss'], label='loss')\n",
    "    plt.plot(history.history['val_loss'], label='val_loss')\n",
    "    plt.ylim([0.1, 2])\n",
    "    plt.xlabel('Epoch')\n",
    "    plt.ylabel('Error [Score]')\n",
    "    plt.legend()\n",
    "    plt.grid(True)    \n",
    "    plt.show()\n",
    "\n",
    "plot_loss(history)"
   ]
  },
  {
   "cell_type": "code",
   "execution_count": 16,
   "metadata": {},
   "outputs": [
    {
     "name": "stdout",
     "output_type": "stream",
     "text": [
      "Model Saved\n"
     ]
    }
   ],
   "source": [
    "#Save Model H5\n",
    "\n",
    "#tf_model = save_best_model.best_model    #saves best model\n",
    "\n",
    "tf.keras.models.save_model(\n",
    "    tf_model,\n",
    "    'outputs/tf_model.h5',\n",
    "    overwrite=True,\n",
    "    include_optimizer=True,\n",
    "    save_format='h5',\n",
    "    signatures=None,\n",
    "    options=None\n",
    ")\n",
    "\n",
    "print('Model Saved')"
   ]
  },
  {
   "cell_type": "code",
   "execution_count": 17,
   "metadata": {},
   "outputs": [],
   "source": [
    "#Clear TF Session\n",
    "tf.keras.backend.clear_session()"
   ]
  },
  {
   "cell_type": "markdown",
   "metadata": {},
   "source": [
    "# Register Models"
   ]
  },
  {
   "cell_type": "code",
   "execution_count": 18,
   "metadata": {},
   "outputs": [],
   "source": [
    "# #Register TF Model in Azure\n",
    "# TFmodel = Model.register( workspace=ws,                       \n",
    "#                            model_name='tf_model',             # Name of the registered model in your workspace.\n",
    "#                            model_path='outputs/tf_model.h5',  # Local file to upload and register as a model.\n",
    "#                            description='TensorFlow model on synthetic data',\n",
    "#                            tags={'area': 'prototype', 'type': 'TensorFlow'})\n",
    "\n",
    "# print('Name:', TFmodel.name)\n",
    "# print('Version:', TFmodel.version)"
   ]
  },
  {
   "cell_type": "markdown",
   "metadata": {},
   "source": [
    "# Load  Models from Azure"
   ]
  },
  {
   "cell_type": "code",
   "execution_count": 19,
   "metadata": {},
   "outputs": [
    {
     "name": "stdout",
     "output_type": "stream",
     "text": [
      "Name: tf_model\n",
      "Version: 1\n"
     ]
    }
   ],
   "source": [
    "# Load TF model\n",
    "\n",
    "TFmodel = Model(ws, name='tf_model')\n",
    "print('Name:', TFmodel.name)\n",
    "print('Version:', TFmodel.version)"
   ]
  },
  {
   "cell_type": "markdown",
   "metadata": {},
   "source": [
    "# Score.py"
   ]
  },
  {
   "cell_type": "code",
   "execution_count": 20,
   "metadata": {},
   "outputs": [
    {
     "name": "stdout",
     "output_type": "stream",
     "text": [
      "Overwriting score.py\n"
     ]
    }
   ],
   "source": [
    "%%writefile score.py\n",
    "import joblib\n",
    "import sklearn\n",
    "import numpy as np\n",
    "import os\n",
    "import json\n",
    "import pandas as pd\n",
    "import tensorflow as tf\n",
    "from azureml.core.model import Model\n",
    "from sklearn.preprocessing import LabelEncoder\n",
    "import pandas_validator as pv\n",
    "from sklearn.metrics.pairwise import cosine_similarity\n",
    "from sklearn.compose import ColumnTransformer, make_column_transformer\n",
    "from sklearn.preprocessing import LabelEncoder, StandardScaler\n",
    "\n",
    "\n",
    "class InputValidator(pv.DataFrameValidator): \n",
    "    '''\n",
    "    Class to test input data validity\n",
    "    '''\n",
    "    row_num = 120\n",
    "    column_num = 6\n",
    "    userID = pv.IntegerColumnValidator('user_id', min_value=0)\n",
    "    cat1 = pv.IntegerColumnValidator('cat1', min_value=0, max_value=120)\n",
    "    cat2 = pv.IntegerColumnValidator('cat2', min_value=0, max_value=3)\n",
    "    cat3 = pv.IntegerColumnValidator('cat3', min_value=0, max_value=40)\n",
    "    numeric1 = pv.FloatColumnValidator('numeric1', min_value=0, max_value=10)\n",
    "    target = pv.FloatColumnValidator('target', min_value=0, max_value=1)\n",
    "    \n",
    "    \n",
    "class TestValidator(pv.DataFrameValidator):  \n",
    "    '''\n",
    "    Class to test test data validity\n",
    "    '''\n",
    "    row_num = 200\n",
    "    column_num = 5\n",
    "    userID = pv.IntegerColumnValidator('user_id', min_value=0)\n",
    "    cat1 = pv.IntegerColumnValidator('cat1', min_value=0, max_value=120)\n",
    "    cat2 = pv.IntegerColumnValidator('cat2', min_value=0, max_value=3)\n",
    "    cat3 = pv.IntegerColumnValidator('cat3', min_value=0, max_value=40)\n",
    "    numeric1 = pv.FloatColumnValidator('numeric1', min_value=0, max_value=10)\n",
    "    numeric1 = pv.FloatColumnValidator('numeric1', min_value=0, max_value=10) \n",
    "    \n",
    "    \n",
    "def prepare_data(data_df, is_train, label_dict, scaler_dict):\n",
    "    '''\n",
    "    Process input data from azure\n",
    "    '''\n",
    "    data_df.fillna(0) \n",
    "        \n",
    "    #encode features\n",
    "    cat_features = ['user_id', 'cat1', 'cat2', 'cat3']\n",
    "    num_features = ['numeric1']\n",
    "    \n",
    "    #label encoding\n",
    "    data_df.replace(label_dict)\n",
    "    \n",
    "    #scaling\n",
    "    for col in num_features:\n",
    "        (data_df[col] - scaler_dict[col][0]) /  scaler_dict[col][1]\n",
    "        \n",
    "    #dict for tf\n",
    "    df_dict= {\n",
    "              'input_user_id':data_df[cat_features[0]],\n",
    "              'input_cat1':data_df[cat_features[1]],\n",
    "              'input_cat2':data_df[cat_features[2]],\n",
    "              'input_cat3':data_df[cat_features[3]],\n",
    "              'input_num_features':data_df[num_features[0]]\n",
    "              } \n",
    "    \n",
    "    # if true return labels\n",
    "    if is_train:\n",
    "        # convert target to cat\n",
    "        data_df = ewma_to_cat(data_df)\n",
    "        labels = data_df['target']    \n",
    "        return df_dict, labels\n",
    "    \n",
    "    else:\n",
    "        return df_dict\n",
    "    \n",
    "\n",
    "def ewma_to_cat(df):\n",
    "    '''\n",
    "    Convert target to discrete based on IQR\n",
    "    returns: modified df\n",
    "    '''    \n",
    "    q1, q2, q3 = np.percentile(df['target'], [25,50,75])\n",
    "    df.loc[df['target'] > q2, 'target'] = 1\n",
    "    df.loc[df['target'] <= q2, 'target'] = 0\n",
    "    #user_df.loc[(user_df[\"ewma\"] >= q1) & (user_df[\"ewma\"] <= q3), 'ewma'] = 1    #group Q2 and Q3 to make trinary\n",
    "    df['target'] = df['target'].astype(int)\n",
    "    return df\n",
    "\n",
    "\n",
    "def cos_sim(user, user_df):\n",
    "    '''\n",
    "    Cosine similarity for users\n",
    "    '''\n",
    "    n = 10\n",
    "    user_row = user_df.loc[user_df['user_id'] == user]\n",
    "    user_row = user_row.drop(['user_id'], axis = 1)\n",
    "    \n",
    "    result_df = pd.DataFrame(user_df['user_id'])\n",
    "    no_id_df = user_df.drop(['user_id'], axis = 1)\n",
    "\n",
    "    cos_sim = cosine_similarity(no_id_df, user_row )\n",
    "    result_df['cos_sim'] = cos_sim\n",
    "    top_n = result_df[result_df['user_id'] != user].nlargest(10, 'cos_sim')['user_id']    \n",
    "    return top_n.values\n",
    "\n",
    "\n",
    "def init():\n",
    "    '''\n",
    "    Initialize model and globals\n",
    "    '''\n",
    "    global question_df\n",
    "    global TFmodel      \n",
    "     \n",
    "    #Load TF model\n",
    "    tf_model_path = os.path.join(os.getenv('AZUREML_MODEL_DIR'), 'tf_model.h5')\n",
    "    TFmodel = tf.keras.models.load_model(tf_model_path)   \n",
    "    \n",
    "\n",
    "def run(data):  #, test\n",
    "    '''\n",
    "    Run script\n",
    "    ''' \n",
    "    \n",
    "    try:\n",
    "        #Input Data\n",
    "        input_data = pd.DataFrame(json.loads(data)['data'])\n",
    "        test_data =  pd.DataFrame(json.loads(data)['test'])  \n",
    "        rec_data =   pd.DataFrame(json.loads(data)['rec']) \n",
    "        label_dict = json.loads(data, object_hook=lambda d: \n",
    "                                {int(k) if k.lstrip('-').isdigit() else k: v for k, v in d.items()})['label_dict']\n",
    "        scaler_dict = json.loads(data)['scaler_dict']\n",
    "        \n",
    "        #Top ten similar users\n",
    "        user = input_data['user_id'][0]\n",
    "        top_ten = cos_sim(user, rec_data)\n",
    "        \n",
    "    except AssertionError as error:\n",
    "         return error \n",
    "\n",
    "    #Validate Data\n",
    "    input_validator = InputValidator()\n",
    "    test_validator = TestValidator()\n",
    "    \n",
    "    #user data\n",
    "    try:\n",
    "        assert(input_validator.is_valid(input_data))\n",
    "    except:\n",
    "        return ('Assertion error, invalid User data')\n",
    "    \n",
    "    #question data\n",
    "    try:\n",
    "        assert(test_validator.is_valid(test_data))\n",
    "    except:\n",
    "        return ('Assertion error, invalid Question data')\n",
    "\n",
    "    #process input and convert dict and labels\n",
    "    input_dict, labels = prepare_data(input_data, True, label_dict, scaler_dict)  \n",
    "    test_dict = prepare_data(test_data, False, label_dict, scaler_dict)\n",
    "\n",
    "    #append TF model with input data\n",
    "    TFmodel.fit(input_dict, labels, epochs= 5)    \n",
    "    result = TFmodel.predict(test_dict)\n",
    "    \n",
    "    return result.tolist(), top_ten.tolist()  "
   ]
  },
  {
   "cell_type": "markdown",
   "metadata": {},
   "source": [
    "# Deploy"
   ]
  },
  {
   "cell_type": "code",
   "execution_count": 21,
   "metadata": {},
   "outputs": [
    {
     "data": {
      "text/plain": [
       "'\\nCurated Environments List\\n'"
      ]
     },
     "execution_count": 21,
     "metadata": {},
     "output_type": "execute_result"
    }
   ],
   "source": [
    "'''\n",
    "Curated Environments List\n",
    "'''\n",
    "\n",
    "# envs = Environment.list(workspace=ws)\n",
    "\n",
    "# for env in envs:\n",
    "#     if env.startswith(\"AzureML\"):\n",
    "#         print(\"Name\",env)\n",
    "#         print(\"packages\", envs[env].python.conda_dependencies.serialize_to_string())"
   ]
  },
  {
   "cell_type": "code",
   "execution_count": 22,
   "metadata": {},
   "outputs": [],
   "source": [
    "#Create Custom Environment with pip\n",
    "\n",
    "env = Environment('my_env')        \n",
    "\n",
    "env.python.conda_dependencies = CondaDependencies.create(pip_packages=[\n",
    "    'azureml-defaults',\n",
    "    'inference-schema[numpy-support]',\n",
    "    'joblib',\n",
    "    'numpy',\n",
    "    'scikit-learn=={}'.format(skl.__version__),\n",
    "    'tensorflow =={}'.format(tf.__version__ ),\n",
    "    'h5py==2.10.0',\n",
    "    'pandas_validator'\n",
    "])"
   ]
  },
  {
   "cell_type": "code",
   "execution_count": null,
   "metadata": {},
   "outputs": [],
   "source": [
    "#Deploy Model, run this I removed the output for privacy\n",
    "service_name = 'simple-local'\n",
    "mods = [TFmodel]      \n",
    "\n",
    "inference_config = InferenceConfig(entry_script='score.py', environment=env)\n",
    "\n",
    "# Deploy options\n",
    "#aci_config = AciWebservice.deploy_configuration(cpu_cores=2, memory_gb=1)\n",
    "local_config = LocalWebservice.deploy_configuration(port=8890)                   #Deploy Local, requires Docker running\n",
    "#aks_config = AksWebservice.deploy_configuration(autoscale_enabled=True)         #cpu_cores = 4, memory_gb = 8\n",
    "#aks_config2 = AksWebservice.deploy_configuration(cpu_cores = 1, memory_gb = 1)  #alternate aks\n",
    "\n",
    "service = Model.deploy(workspace=ws,\n",
    "                       name=service_name,\n",
    "                       models= mods,                         \n",
    "                       inference_config=inference_config,\n",
    "                       deployment_config= local_config,        \n",
    "                       #deployment_target= aks_cluster,       # For K8S, from initial creation\n",
    "                       overwrite=True)\n",
    "service.wait_for_deployment(show_output=False)  "
   ]
  },
  {
   "cell_type": "code",
   "execution_count": null,
   "metadata": {
    "scrolled": true
   },
   "outputs": [],
   "source": [
    "#Get Error Logs if service Fails\n",
    "print(service.get_logs())"
   ]
  },
  {
   "cell_type": "code",
   "execution_count": 24,
   "metadata": {},
   "outputs": [
    {
     "name": "stdout",
     "output_type": "stream",
     "text": [
      "http://localhost:8890/score\n"
     ]
    }
   ],
   "source": [
    "#Get URL for local\n",
    "print(service.scoring_uri) "
   ]
  },
  {
   "cell_type": "code",
   "execution_count": 25,
   "metadata": {
    "scrolled": true
   },
   "outputs": [
    {
     "name": "stdout",
     "output_type": "stream",
     "text": [
      "[[[0.102875255048275], [0.6256417036056519], [0.8166980147361755], [0.06229126453399658], [0.07255028933286667], [0.8700805306434631], [0.05808218941092491], [0.27427226305007935], [0.24265877902507782], [0.1904037445783615], [0.8177449703216553], [0.4425472021102905], [0.3032751679420471], [0.6422600746154785], [0.8337113261222839], [0.644760251045227], [0.9527812600135803], [0.623135507106781], [0.2013721466064453], [0.1313440352678299], [0.5220851302146912], [0.2463076263666153], [0.24713481962680817], [0.7322932481765747], [0.24610702693462372], [0.10759633779525757], [0.4224775731563568], [0.8915165066719055], [0.8992987871170044], [0.20888544619083405], [0.06251001358032227], [0.1293996274471283], [0.17920616269111633], [0.2851390838623047], [0.1732848882675171], [0.10876649618148804], [0.9177520275115967], [0.6685217022895813], [0.5593864917755127], [0.7411669492721558], [0.9748287200927734], [0.18991979956626892], [0.709888756275177], [0.15333294868469238], [0.5570212602615356], [0.35274097323417664], [0.16764278709888458], [0.13946066796779633], [0.2615453898906708], [0.907477617263794], [0.24866977334022522], [0.17853546142578125], [0.14826343953609467], [0.7136519551277161], [0.6153474450111389], [0.05968067795038223], [0.27372169494628906], [0.15311941504478455], [0.8885034322738647], [0.08256914466619492], [0.3999027907848358], [0.04190796613693237], [0.8505575656890869], [0.013740568421781063], [0.4618517756462097], [0.6703091263771057], [0.4305885434150696], [0.331817626953125], [0.8587337136268616], [0.19337615370750427], [0.6383432149887085], [0.18982459604740143], [0.2819218337535858], [0.22211338579654694], [0.7232024669647217], [0.16007356345653534], [0.6593400239944458], [0.9577349424362183], [0.7209520936012268], [0.7168662548065186], [0.6842456459999084], [0.7876501679420471], [0.36648526787757874], [0.037125155329704285], [0.6164265275001526], [0.37978819012641907], [0.782247006893158], [0.29722633957862854], [0.889482855796814], [0.8656163811683655], [0.24700646102428436], [0.41591930389404297], [0.07405301183462143], [0.6603068113327026], [0.2091565877199173], [0.6638923287391663], [0.5998102426528931], [0.9590025544166565], [0.9415057301521301], [0.4089681804180145], [0.7345492243766785], [0.706768810749054], [0.663331151008606], [0.4106456935405731], [0.4392344653606415], [0.5624393820762634], [0.189777672290802], [0.9397805333137512], [0.2595148980617523], [0.2081640511751175], [0.39918169379234314], [0.0237277764827013], [0.8047455549240112], [0.7234228849411011], [0.2288808524608612], [0.2050274908542633], [0.061006780713796616], [0.6582087874412537], [0.09082585573196411], [0.1313852071762085], [0.9030652046203613], [0.2004922330379486], [0.12624382972717285], [0.19431564211845398], [0.7998441457748413], [0.16340966522693634], [0.5275683999061584], [0.17947445809841156], [0.31878092885017395], [0.09420961141586304], [0.08621036261320114], [0.14077270030975342], [0.7891278266906738], [0.9562495946884155], [0.24302031099796295], [0.9105618000030518], [0.20972798764705658], [0.5702135562896729], [0.902082622051239], [0.3846302926540375], [0.2208605259656906], [0.17325016856193542], [0.9590087532997131], [0.8851723074913025], [0.8164331912994385], [0.8512930274009705], [0.49125444889068604], [0.9116665124893188], [0.37116944789886475], [0.6628463268280029], [0.9654221534729004], [0.8239176273345947], [0.7633712291717529], [0.2705615758895874], [0.8941339254379272], [0.8986121416091919], [0.05136079341173172], [0.6125335693359375], [0.9000483155250549], [0.08817049115896225], [0.973451554775238], [0.5772186517715454], [0.8167423009872437], [0.8589742183685303], [0.2165648639202118], [0.1313348412513733], [0.14528287947177887], [0.10772258788347244], [0.6079893112182617], [0.38762298226356506], [0.14752766489982605], [0.9426122307777405], [0.12257371842861176], [0.5035706162452698], [0.12042471021413803], [0.7064183950424194], [0.9421117305755615], [0.2382432371377945], [0.783021867275238], [0.9052770733833313], [0.834389328956604], [0.21062953770160675], [0.828798770904541], [0.6816686987876892], [0.9368301630020142], [0.5195788741111755], [0.6197286248207092], [0.8115314245223999], [0.08106289803981781], [0.13524313271045685], [0.5325902700424194], [0.8710343837738037], [0.906078577041626], [0.12820178270339966], [0.598111629486084], [0.7307410836219788], [0.5989197492599487], [0.36339056491851807], [0.9198151230812073], [0.9347748756408691]], [76, 60, 32, 94, 86, 85, 14, 37, 38, 79]]\n"
     ]
    }
   ],
   "source": [
    "#%%timeit\n",
    "\n",
    "#Get Results\n",
    "input_payload = json.dumps({\n",
    "    'data': live_df.to_dict(),\n",
    "    'test': test_df.to_dict(),\n",
    "    'rec' : recommender_df.to_dict(),\n",
    "    'label_dict' : label_dict,\n",
    "    'scaler_dict' : scaler_dict\n",
    "    #'data': test_df.to_dict(),  #test input validation\n",
    "    #'method': 'predict'  # 'predict_proba' else 'predict'.\n",
    "})\n",
    "\n",
    " \n",
    "\n",
    "output = service.run(input_payload)\n",
    "\n",
    "print(output)"
   ]
  },
  {
   "cell_type": "markdown",
   "metadata": {},
   "source": [
    "# Delete Workspace"
   ]
  },
  {
   "cell_type": "code",
   "execution_count": null,
   "metadata": {},
   "outputs": [],
   "source": [
    "#Delete Workspace, cleanup when finished\n",
    "\n",
    "#ws.delete()"
   ]
  }
 ],
 "metadata": {
  "kernelspec": {
   "display_name": "Python 3",
   "language": "python",
   "name": "python3"
  },
  "language_info": {
   "codemirror_mode": {
    "name": "ipython",
    "version": 3
   },
   "file_extension": ".py",
   "mimetype": "text/x-python",
   "name": "python",
   "nbconvert_exporter": "python",
   "pygments_lexer": "ipython3",
   "version": "3.8.11"
  }
 },
 "nbformat": 4,
 "nbformat_minor": 4
}
